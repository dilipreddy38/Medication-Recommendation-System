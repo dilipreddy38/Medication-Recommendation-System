{
 "cells": [
  {
   "cell_type": "code",
   "execution_count": 1,
   "metadata": {},
   "outputs": [],
   "source": [
    "import pandas as pd\n",
    "import numpy as np"
   ]
  },
  {
   "cell_type": "code",
   "execution_count": 2,
   "metadata": {},
   "outputs": [
    {
     "data": {
      "text/html": [
       "<div>\n",
       "<style scoped>\n",
       "    .dataframe tbody tr th:only-of-type {\n",
       "        vertical-align: middle;\n",
       "    }\n",
       "\n",
       "    .dataframe tbody tr th {\n",
       "        vertical-align: top;\n",
       "    }\n",
       "\n",
       "    .dataframe thead th {\n",
       "        text-align: right;\n",
       "    }\n",
       "</style>\n",
       "<table border=\"1\" class=\"dataframe\">\n",
       "  <thead>\n",
       "    <tr style=\"text-align: right;\">\n",
       "      <th></th>\n",
       "      <th>Medicine Name</th>\n",
       "      <th>Composition</th>\n",
       "      <th>Uses</th>\n",
       "      <th>Side_effects</th>\n",
       "      <th>Image URL</th>\n",
       "      <th>Manufacturer</th>\n",
       "      <th>Excellent Review %</th>\n",
       "      <th>Average Review %</th>\n",
       "      <th>Poor Review %</th>\n",
       "    </tr>\n",
       "  </thead>\n",
       "  <tbody>\n",
       "    <tr>\n",
       "      <th>0</th>\n",
       "      <td>Avastin 400mg Injection</td>\n",
       "      <td>Bevacizumab (400mg)</td>\n",
       "      <td>Cancer of colon and rectum Non-small cell lun...</td>\n",
       "      <td>Rectal bleeding Taste change Headache Noseblee...</td>\n",
       "      <td>https://onemg.gumlet.io/l_watermark_346,w_480,...</td>\n",
       "      <td>Roche Products India Pvt Ltd</td>\n",
       "      <td>22</td>\n",
       "      <td>56</td>\n",
       "      <td>22</td>\n",
       "    </tr>\n",
       "    <tr>\n",
       "      <th>1</th>\n",
       "      <td>Augmentin 625 Duo Tablet</td>\n",
       "      <td>Amoxycillin  (500mg) +  Clavulanic Acid (125mg)</td>\n",
       "      <td>Treatment of Bacterial infections</td>\n",
       "      <td>Vomiting Nausea Diarrhea Mucocutaneous candidi...</td>\n",
       "      <td>https://onemg.gumlet.io/l_watermark_346,w_480,...</td>\n",
       "      <td>Glaxo SmithKline Pharmaceuticals Ltd</td>\n",
       "      <td>47</td>\n",
       "      <td>35</td>\n",
       "      <td>18</td>\n",
       "    </tr>\n",
       "    <tr>\n",
       "      <th>2</th>\n",
       "      <td>Azithral 500 Tablet</td>\n",
       "      <td>Azithromycin (500mg)</td>\n",
       "      <td>Treatment of Bacterial infections</td>\n",
       "      <td>Nausea Abdominal pain Diarrhea</td>\n",
       "      <td>https://onemg.gumlet.io/l_watermark_346,w_480,...</td>\n",
       "      <td>Alembic Pharmaceuticals Ltd</td>\n",
       "      <td>39</td>\n",
       "      <td>40</td>\n",
       "      <td>21</td>\n",
       "    </tr>\n",
       "    <tr>\n",
       "      <th>3</th>\n",
       "      <td>Ascoril LS Syrup</td>\n",
       "      <td>Ambroxol (30mg/5ml) + Levosalbutamol (1mg/5ml)...</td>\n",
       "      <td>Treatment of Cough with mucus</td>\n",
       "      <td>Nausea Vomiting Diarrhea Upset stomach Stomach...</td>\n",
       "      <td>https://onemg.gumlet.io/l_watermark_346,w_480,...</td>\n",
       "      <td>Glenmark Pharmaceuticals Ltd</td>\n",
       "      <td>24</td>\n",
       "      <td>41</td>\n",
       "      <td>35</td>\n",
       "    </tr>\n",
       "    <tr>\n",
       "      <th>4</th>\n",
       "      <td>Aciloc 150 Tablet</td>\n",
       "      <td>Ranitidine (150mg)</td>\n",
       "      <td>Treatment of Gastroesophageal reflux disease (...</td>\n",
       "      <td>Headache Diarrhea Gastrointestinal disturbance</td>\n",
       "      <td>https://onemg.gumlet.io/l_watermark_346,w_480,...</td>\n",
       "      <td>Cadila Pharmaceuticals Ltd</td>\n",
       "      <td>34</td>\n",
       "      <td>37</td>\n",
       "      <td>29</td>\n",
       "    </tr>\n",
       "  </tbody>\n",
       "</table>\n",
       "</div>"
      ],
      "text/plain": [
       "              Medicine Name  \\\n",
       "0   Avastin 400mg Injection   \n",
       "1  Augmentin 625 Duo Tablet   \n",
       "2       Azithral 500 Tablet   \n",
       "3          Ascoril LS Syrup   \n",
       "4         Aciloc 150 Tablet   \n",
       "\n",
       "                                         Composition  \\\n",
       "0                                Bevacizumab (400mg)   \n",
       "1    Amoxycillin  (500mg) +  Clavulanic Acid (125mg)   \n",
       "2                               Azithromycin (500mg)   \n",
       "3  Ambroxol (30mg/5ml) + Levosalbutamol (1mg/5ml)...   \n",
       "4                                 Ranitidine (150mg)   \n",
       "\n",
       "                                                Uses  \\\n",
       "0   Cancer of colon and rectum Non-small cell lun...   \n",
       "1                  Treatment of Bacterial infections   \n",
       "2                  Treatment of Bacterial infections   \n",
       "3                      Treatment of Cough with mucus   \n",
       "4  Treatment of Gastroesophageal reflux disease (...   \n",
       "\n",
       "                                        Side_effects  \\\n",
       "0  Rectal bleeding Taste change Headache Noseblee...   \n",
       "1  Vomiting Nausea Diarrhea Mucocutaneous candidi...   \n",
       "2                     Nausea Abdominal pain Diarrhea   \n",
       "3  Nausea Vomiting Diarrhea Upset stomach Stomach...   \n",
       "4     Headache Diarrhea Gastrointestinal disturbance   \n",
       "\n",
       "                                           Image URL  \\\n",
       "0  https://onemg.gumlet.io/l_watermark_346,w_480,...   \n",
       "1  https://onemg.gumlet.io/l_watermark_346,w_480,...   \n",
       "2  https://onemg.gumlet.io/l_watermark_346,w_480,...   \n",
       "3  https://onemg.gumlet.io/l_watermark_346,w_480,...   \n",
       "4  https://onemg.gumlet.io/l_watermark_346,w_480,...   \n",
       "\n",
       "                           Manufacturer  Excellent Review %  Average Review %  \\\n",
       "0          Roche Products India Pvt Ltd                  22                56   \n",
       "1  Glaxo SmithKline Pharmaceuticals Ltd                  47                35   \n",
       "2           Alembic Pharmaceuticals Ltd                  39                40   \n",
       "3          Glenmark Pharmaceuticals Ltd                  24                41   \n",
       "4            Cadila Pharmaceuticals Ltd                  34                37   \n",
       "\n",
       "   Poor Review %  \n",
       "0             22  \n",
       "1             18  \n",
       "2             21  \n",
       "3             35  \n",
       "4             29  "
      ]
     },
     "execution_count": 2,
     "metadata": {},
     "output_type": "execute_result"
    }
   ],
   "source": [
    "df = pd.read_csv(\"Medicine_Details.csv\")\n",
    "df.head()"
   ]
  },
  {
   "cell_type": "code",
   "execution_count": 3,
   "metadata": {},
   "outputs": [
    {
     "data": {
      "text/plain": [
       "' Cancer of colon and rectum Non-small cell lung cancer Kidney cancer Brain tumor Ovarian cancer Cervical cancer'"
      ]
     },
     "execution_count": 3,
     "metadata": {},
     "output_type": "execute_result"
    }
   ],
   "source": [
    "df['Uses'][0]"
   ]
  },
  {
   "cell_type": "code",
   "execution_count": 4,
   "metadata": {},
   "outputs": [
    {
     "name": "stdout",
     "output_type": "stream",
     "text": [
      "<class 'pandas.core.frame.DataFrame'>\n",
      "RangeIndex: 11825 entries, 0 to 11824\n",
      "Data columns (total 9 columns):\n",
      " #   Column              Non-Null Count  Dtype \n",
      "---  ------              --------------  ----- \n",
      " 0   Medicine Name       11825 non-null  object\n",
      " 1   Composition         11825 non-null  object\n",
      " 2   Uses                11825 non-null  object\n",
      " 3   Side_effects        11825 non-null  object\n",
      " 4   Image URL           11825 non-null  object\n",
      " 5   Manufacturer        11825 non-null  object\n",
      " 6   Excellent Review %  11825 non-null  int64 \n",
      " 7   Average Review %    11825 non-null  int64 \n",
      " 8   Poor Review %       11825 non-null  int64 \n",
      "dtypes: int64(3), object(6)\n",
      "memory usage: 831.6+ KB\n"
     ]
    }
   ],
   "source": [
    "df.info()"
   ]
  },
  {
   "cell_type": "code",
   "execution_count": 5,
   "metadata": {},
   "outputs": [
    {
     "data": {
      "text/html": [
       "<div>\n",
       "<style scoped>\n",
       "    .dataframe tbody tr th:only-of-type {\n",
       "        vertical-align: middle;\n",
       "    }\n",
       "\n",
       "    .dataframe tbody tr th {\n",
       "        vertical-align: top;\n",
       "    }\n",
       "\n",
       "    .dataframe thead th {\n",
       "        text-align: right;\n",
       "    }\n",
       "</style>\n",
       "<table border=\"1\" class=\"dataframe\">\n",
       "  <thead>\n",
       "    <tr style=\"text-align: right;\">\n",
       "      <th></th>\n",
       "      <th>Excellent Review %</th>\n",
       "      <th>Average Review %</th>\n",
       "      <th>Poor Review %</th>\n",
       "    </tr>\n",
       "  </thead>\n",
       "  <tbody>\n",
       "    <tr>\n",
       "      <th>count</th>\n",
       "      <td>11825.000000</td>\n",
       "      <td>11825.000000</td>\n",
       "      <td>11825.000000</td>\n",
       "    </tr>\n",
       "    <tr>\n",
       "      <th>mean</th>\n",
       "      <td>38.516025</td>\n",
       "      <td>35.756364</td>\n",
       "      <td>25.727611</td>\n",
       "    </tr>\n",
       "    <tr>\n",
       "      <th>std</th>\n",
       "      <td>25.225343</td>\n",
       "      <td>18.268134</td>\n",
       "      <td>23.991985</td>\n",
       "    </tr>\n",
       "    <tr>\n",
       "      <th>min</th>\n",
       "      <td>0.000000</td>\n",
       "      <td>0.000000</td>\n",
       "      <td>0.000000</td>\n",
       "    </tr>\n",
       "    <tr>\n",
       "      <th>25%</th>\n",
       "      <td>22.000000</td>\n",
       "      <td>27.000000</td>\n",
       "      <td>0.000000</td>\n",
       "    </tr>\n",
       "    <tr>\n",
       "      <th>50%</th>\n",
       "      <td>34.000000</td>\n",
       "      <td>35.000000</td>\n",
       "      <td>22.000000</td>\n",
       "    </tr>\n",
       "    <tr>\n",
       "      <th>75%</th>\n",
       "      <td>51.000000</td>\n",
       "      <td>47.000000</td>\n",
       "      <td>35.000000</td>\n",
       "    </tr>\n",
       "    <tr>\n",
       "      <th>max</th>\n",
       "      <td>100.000000</td>\n",
       "      <td>88.000000</td>\n",
       "      <td>100.000000</td>\n",
       "    </tr>\n",
       "  </tbody>\n",
       "</table>\n",
       "</div>"
      ],
      "text/plain": [
       "       Excellent Review %  Average Review %  Poor Review %\n",
       "count        11825.000000      11825.000000   11825.000000\n",
       "mean            38.516025         35.756364      25.727611\n",
       "std             25.225343         18.268134      23.991985\n",
       "min              0.000000          0.000000       0.000000\n",
       "25%             22.000000         27.000000       0.000000\n",
       "50%             34.000000         35.000000      22.000000\n",
       "75%             51.000000         47.000000      35.000000\n",
       "max            100.000000         88.000000     100.000000"
      ]
     },
     "execution_count": 5,
     "metadata": {},
     "output_type": "execute_result"
    }
   ],
   "source": [
    "df.describe()"
   ]
  },
  {
   "cell_type": "code",
   "execution_count": 6,
   "metadata": {},
   "outputs": [
    {
     "data": {
      "text/plain": [
       "Index(['Medicine Name', 'Composition', 'Uses', 'Side_effects', 'Image URL',\n",
       "       'Manufacturer', 'Excellent Review %', 'Average Review %',\n",
       "       'Poor Review %'],\n",
       "      dtype='object')"
      ]
     },
     "execution_count": 6,
     "metadata": {},
     "output_type": "execute_result"
    }
   ],
   "source": [
    "df.columns"
   ]
  },
  {
   "cell_type": "code",
   "execution_count": 7,
   "metadata": {},
   "outputs": [
    {
     "data": {
      "text/plain": [
       "100"
      ]
     },
     "execution_count": 7,
     "metadata": {},
     "output_type": "execute_result"
    }
   ],
   "source": [
    "int(df['Excellent Review %'][6]) + int(df['Average Review %'][6]) + int(df['Poor Review %'][6])"
   ]
  },
  {
   "cell_type": "code",
   "execution_count": 8,
   "metadata": {},
   "outputs": [
    {
     "data": {
      "text/plain": [
       "759"
      ]
     },
     "execution_count": 8,
     "metadata": {},
     "output_type": "execute_result"
    }
   ],
   "source": [
    "df['Manufacturer'].nunique()"
   ]
  },
  {
   "cell_type": "code",
   "execution_count": 9,
   "metadata": {},
   "outputs": [
    {
     "data": {
      "text/plain": [
       "Medicine Name         0\n",
       "Composition           0\n",
       "Uses                  0\n",
       "Side_effects          0\n",
       "Image URL             0\n",
       "Manufacturer          0\n",
       "Excellent Review %    0\n",
       "Average Review %      0\n",
       "Poor Review %         0\n",
       "dtype: int64"
      ]
     },
     "execution_count": 9,
     "metadata": {},
     "output_type": "execute_result"
    }
   ],
   "source": [
    "df.isnull().sum()"
   ]
  },
  {
   "cell_type": "code",
   "execution_count": 10,
   "metadata": {},
   "outputs": [
    {
     "data": {
      "text/plain": [
       "84"
      ]
     },
     "execution_count": 10,
     "metadata": {},
     "output_type": "execute_result"
    }
   ],
   "source": [
    "df.duplicated().sum()"
   ]
  },
  {
   "cell_type": "code",
   "execution_count": 11,
   "metadata": {},
   "outputs": [],
   "source": [
    "df.drop_duplicates(inplace=True)"
   ]
  },
  {
   "cell_type": "code",
   "execution_count": 12,
   "metadata": {},
   "outputs": [
    {
     "data": {
      "text/plain": [
       "0"
      ]
     },
     "execution_count": 12,
     "metadata": {},
     "output_type": "execute_result"
    }
   ],
   "source": [
    "df.duplicated().sum()"
   ]
  },
  {
   "cell_type": "code",
   "execution_count": 13,
   "metadata": {},
   "outputs": [
    {
     "data": {
      "text/html": [
       "<div>\n",
       "<style scoped>\n",
       "    .dataframe tbody tr th:only-of-type {\n",
       "        vertical-align: middle;\n",
       "    }\n",
       "\n",
       "    .dataframe tbody tr th {\n",
       "        vertical-align: top;\n",
       "    }\n",
       "\n",
       "    .dataframe thead th {\n",
       "        text-align: right;\n",
       "    }\n",
       "</style>\n",
       "<table border=\"1\" class=\"dataframe\">\n",
       "  <thead>\n",
       "    <tr style=\"text-align: right;\">\n",
       "      <th></th>\n",
       "      <th>Medicine Name</th>\n",
       "      <th>Composition</th>\n",
       "      <th>Uses</th>\n",
       "      <th>Side_effects</th>\n",
       "      <th>Image URL</th>\n",
       "      <th>Manufacturer</th>\n",
       "      <th>Excellent Review %</th>\n",
       "      <th>Average Review %</th>\n",
       "      <th>Poor Review %</th>\n",
       "    </tr>\n",
       "  </thead>\n",
       "  <tbody>\n",
       "    <tr>\n",
       "      <th>0</th>\n",
       "      <td>Avastin 400mg Injection</td>\n",
       "      <td>Bevacizumab (400mg)</td>\n",
       "      <td>Cancer of colon and rectum Non-small cell lun...</td>\n",
       "      <td>Rectal bleeding Taste change Headache Noseblee...</td>\n",
       "      <td>https://onemg.gumlet.io/l_watermark_346,w_480,...</td>\n",
       "      <td>Roche Products India Pvt Ltd</td>\n",
       "      <td>22</td>\n",
       "      <td>56</td>\n",
       "      <td>22</td>\n",
       "    </tr>\n",
       "    <tr>\n",
       "      <th>1</th>\n",
       "      <td>Augmentin 625 Duo Tablet</td>\n",
       "      <td>Amoxycillin  (500mg) +  Clavulanic Acid (125mg)</td>\n",
       "      <td>Treatment of Bacterial infections</td>\n",
       "      <td>Vomiting Nausea Diarrhea Mucocutaneous candidi...</td>\n",
       "      <td>https://onemg.gumlet.io/l_watermark_346,w_480,...</td>\n",
       "      <td>Glaxo SmithKline Pharmaceuticals Ltd</td>\n",
       "      <td>47</td>\n",
       "      <td>35</td>\n",
       "      <td>18</td>\n",
       "    </tr>\n",
       "    <tr>\n",
       "      <th>2</th>\n",
       "      <td>Azithral 500 Tablet</td>\n",
       "      <td>Azithromycin (500mg)</td>\n",
       "      <td>Treatment of Bacterial infections</td>\n",
       "      <td>Nausea Abdominal pain Diarrhea</td>\n",
       "      <td>https://onemg.gumlet.io/l_watermark_346,w_480,...</td>\n",
       "      <td>Alembic Pharmaceuticals Ltd</td>\n",
       "      <td>39</td>\n",
       "      <td>40</td>\n",
       "      <td>21</td>\n",
       "    </tr>\n",
       "    <tr>\n",
       "      <th>3</th>\n",
       "      <td>Ascoril LS Syrup</td>\n",
       "      <td>Ambroxol (30mg/5ml) + Levosalbutamol (1mg/5ml)...</td>\n",
       "      <td>Treatment of Cough with mucus</td>\n",
       "      <td>Nausea Vomiting Diarrhea Upset stomach Stomach...</td>\n",
       "      <td>https://onemg.gumlet.io/l_watermark_346,w_480,...</td>\n",
       "      <td>Glenmark Pharmaceuticals Ltd</td>\n",
       "      <td>24</td>\n",
       "      <td>41</td>\n",
       "      <td>35</td>\n",
       "    </tr>\n",
       "    <tr>\n",
       "      <th>4</th>\n",
       "      <td>Aciloc 150 Tablet</td>\n",
       "      <td>Ranitidine (150mg)</td>\n",
       "      <td>Treatment of Gastroesophageal reflux disease (...</td>\n",
       "      <td>Headache Diarrhea Gastrointestinal disturbance</td>\n",
       "      <td>https://onemg.gumlet.io/l_watermark_346,w_480,...</td>\n",
       "      <td>Cadila Pharmaceuticals Ltd</td>\n",
       "      <td>34</td>\n",
       "      <td>37</td>\n",
       "      <td>29</td>\n",
       "    </tr>\n",
       "  </tbody>\n",
       "</table>\n",
       "</div>"
      ],
      "text/plain": [
       "              Medicine Name  \\\n",
       "0   Avastin 400mg Injection   \n",
       "1  Augmentin 625 Duo Tablet   \n",
       "2       Azithral 500 Tablet   \n",
       "3          Ascoril LS Syrup   \n",
       "4         Aciloc 150 Tablet   \n",
       "\n",
       "                                         Composition  \\\n",
       "0                                Bevacizumab (400mg)   \n",
       "1    Amoxycillin  (500mg) +  Clavulanic Acid (125mg)   \n",
       "2                               Azithromycin (500mg)   \n",
       "3  Ambroxol (30mg/5ml) + Levosalbutamol (1mg/5ml)...   \n",
       "4                                 Ranitidine (150mg)   \n",
       "\n",
       "                                                Uses  \\\n",
       "0   Cancer of colon and rectum Non-small cell lun...   \n",
       "1                  Treatment of Bacterial infections   \n",
       "2                  Treatment of Bacterial infections   \n",
       "3                      Treatment of Cough with mucus   \n",
       "4  Treatment of Gastroesophageal reflux disease (...   \n",
       "\n",
       "                                        Side_effects  \\\n",
       "0  Rectal bleeding Taste change Headache Noseblee...   \n",
       "1  Vomiting Nausea Diarrhea Mucocutaneous candidi...   \n",
       "2                     Nausea Abdominal pain Diarrhea   \n",
       "3  Nausea Vomiting Diarrhea Upset stomach Stomach...   \n",
       "4     Headache Diarrhea Gastrointestinal disturbance   \n",
       "\n",
       "                                           Image URL  \\\n",
       "0  https://onemg.gumlet.io/l_watermark_346,w_480,...   \n",
       "1  https://onemg.gumlet.io/l_watermark_346,w_480,...   \n",
       "2  https://onemg.gumlet.io/l_watermark_346,w_480,...   \n",
       "3  https://onemg.gumlet.io/l_watermark_346,w_480,...   \n",
       "4  https://onemg.gumlet.io/l_watermark_346,w_480,...   \n",
       "\n",
       "                           Manufacturer  Excellent Review %  Average Review %  \\\n",
       "0          Roche Products India Pvt Ltd                  22                56   \n",
       "1  Glaxo SmithKline Pharmaceuticals Ltd                  47                35   \n",
       "2           Alembic Pharmaceuticals Ltd                  39                40   \n",
       "3          Glenmark Pharmaceuticals Ltd                  24                41   \n",
       "4            Cadila Pharmaceuticals Ltd                  34                37   \n",
       "\n",
       "   Poor Review %  \n",
       "0             22  \n",
       "1             18  \n",
       "2             21  \n",
       "3             35  \n",
       "4             29  "
      ]
     },
     "execution_count": 13,
     "metadata": {},
     "output_type": "execute_result"
    }
   ],
   "source": [
    "df.head()"
   ]
  },
  {
   "cell_type": "code",
   "execution_count": 14,
   "metadata": {},
   "outputs": [
    {
     "data": {
      "text/plain": [
       "Composition\n",
       "Luliconazole (1% w/w)                                                                                   98\n",
       "Levocetirizine (5mg) + Montelukast (10mg)                                                               76\n",
       "Ketoconazole (2% w/w)                                                                                   61\n",
       "Domperidone (30mg) + Rabeprazole (20mg)                                                                 59\n",
       "Itraconazole (100mg)                                                                                    53\n",
       "                                                                                                        ..\n",
       "Digoxin (0.25mg)                                                                                         1\n",
       "Sulphacetamide (20% w/v)                                                                                 1\n",
       "Furosemide (10mg/ml)                                                                                     1\n",
       "Chloroquine (500mg)                                                                                      1\n",
       "Chromium Picolinate (100mcg) + D-Chiro Inositol (13.8mg) + Myo-Inositol (550mg) + Vitamin D3 (200IU)     1\n",
       "Name: count, Length: 3358, dtype: int64"
      ]
     },
     "execution_count": 14,
     "metadata": {},
     "output_type": "execute_result"
    }
   ],
   "source": [
    "df['Composition'].value_counts()"
   ]
  },
  {
   "cell_type": "code",
   "execution_count": 15,
   "metadata": {},
   "outputs": [],
   "source": [
    "salts_name = list(df['Composition'].value_counts().keys())[:30]\n",
    "count_of_meds_with_that_salt = list(df['Composition'].value_counts())[:30]"
   ]
  },
  {
   "cell_type": "code",
   "execution_count": 16,
   "metadata": {},
   "outputs": [
    {
     "data": {
      "image/png": "[encoded data removed]",
      "text/plain": [
       "<Figure size 2000x1000 with 1 Axes>"
      ]
     },
     "metadata": {},
     "output_type": "display_data"
    }
   ],
   "source": [
    "from matplotlib import pyplot as plt\n",
    "\n",
    "plt.figure(figsize=(20,10))\n",
    "plt.bar(salts_name, count_of_meds_with_that_salt, color = 'b')\n",
    "plt.grid(True)\n",
    "plt.title('Count of Meds with same composition')\n",
    "plt.xticks(rotation=90)\n",
    "plt.xlabel('Salts Name')\n",
    "plt.ylabel('Count Of Medicine')\n",
    "plt.show()"
   ]
  },
  {
   "cell_type": "code",
   "execution_count": 17,
   "metadata": {},
   "outputs": [],
   "source": [
    "df['Medicine Score'] = round((df['Excellent Review %']/100 * 5.0) + (df['Average Review %']/100 * 3.0) + (df['Poor Review %']/100 *1.0), 2)"
   ]
  },
  {
   "cell_type": "code",
   "execution_count": 18,
   "metadata": {},
   "outputs": [
    {
     "data": {
      "text/plain": [
       "0     3.00\n",
       "1     3.58\n",
       "2     3.36\n",
       "3     2.78\n",
       "4     3.10\n",
       "5     3.24\n",
       "6     3.28\n",
       "7     3.28\n",
       "8     3.30\n",
       "9     3.22\n",
       "10    3.24\n",
       "11    2.90\n",
       "12    3.40\n",
       "13    3.12\n",
       "14    2.90\n",
       "15    3.46\n",
       "16    3.52\n",
       "17    3.38\n",
       "18    3.16\n",
       "19    3.36\n",
       "Name: Medicine Score, dtype: float64"
      ]
     },
     "execution_count": 18,
     "metadata": {},
     "output_type": "execute_result"
    }
   ],
   "source": [
    "df['Medicine Score'][:20]"
   ]
  },
  {
   "cell_type": "code",
   "execution_count": 19,
   "metadata": {},
   "outputs": [
    {
     "data": {
      "text/plain": [
       "count    11741.000000\n",
       "mean         3.255873\n",
       "std          0.912762\n",
       "min          1.000000\n",
       "25%          2.760000\n",
       "50%          3.260000\n",
       "75%          3.840000\n",
       "max          5.000000\n",
       "Name: Medicine Score, dtype: float64"
      ]
     },
     "execution_count": 19,
     "metadata": {},
     "output_type": "execute_result"
    }
   ],
   "source": [
    "df['Medicine Score'].describe()"
   ]
  },
  {
   "cell_type": "code",
   "execution_count": 20,
   "metadata": {},
   "outputs": [],
   "source": [
    "df['tags'] = df['Composition'] + df['Uses']"
   ]
  },
  {
   "cell_type": "code",
   "execution_count": 21,
   "metadata": {},
   "outputs": [
    {
     "data": {
      "text/plain": [
       "0        Bevacizumab (400mg) Cancer of colon and rectum...\n",
       "1        Amoxycillin  (500mg) +  Clavulanic Acid (125mg...\n",
       "2        Azithromycin (500mg)Treatment of Bacterial inf...\n",
       "3        Ambroxol (30mg/5ml) + Levosalbutamol (1mg/5ml)...\n",
       "4        Ranitidine (150mg)Treatment of Gastroesophagea...\n",
       "                               ...                        \n",
       "11819    Lidocaine (9.5% w/w) Local anesthesia (Numb ti...\n",
       "11820    Azilsartan medoxomil (40mg) + Chlorthalidone (...\n",
       "11821    Chromium Picolinate (100mcg) + D-Chiro Inosito...\n",
       "11822    Sildenafil (100mg)Treatment of Erectile dysfun...\n",
       "11823    Ketoconazole (2% w/v) + Zinc pyrithione (1% w/...\n",
       "Name: tags, Length: 11741, dtype: object"
      ]
     },
     "execution_count": 21,
     "metadata": {},
     "output_type": "execute_result"
    }
   ],
   "source": [
    "df['tags']"
   ]
  },
  {
   "cell_type": "code",
   "execution_count": 22,
   "metadata": {},
   "outputs": [],
   "source": [
    "# df['tags'] = df['tags'].apply(lambda x:' '.join(x))"
   ]
  },
  {
   "cell_type": "code",
   "execution_count": 23,
   "metadata": {},
   "outputs": [
    {
     "data": {
      "text/plain": [
       "0        Bevacizumab (400mg) Cancer of colon and rectum...\n",
       "1        Amoxycillin  (500mg) +  Clavulanic Acid (125mg...\n",
       "2        Azithromycin (500mg)Treatment of Bacterial inf...\n",
       "3        Ambroxol (30mg/5ml) + Levosalbutamol (1mg/5ml)...\n",
       "4        Ranitidine (150mg)Treatment of Gastroesophagea...\n",
       "                               ...                        \n",
       "11819    Lidocaine (9.5% w/w) Local anesthesia (Numb ti...\n",
       "11820    Azilsartan medoxomil (40mg) + Chlorthalidone (...\n",
       "11821    Chromium Picolinate (100mcg) + D-Chiro Inosito...\n",
       "11822    Sildenafil (100mg)Treatment of Erectile dysfun...\n",
       "11823    Ketoconazole (2% w/v) + Zinc pyrithione (1% w/...\n",
       "Name: tags, Length: 11741, dtype: object"
      ]
     },
     "execution_count": 23,
     "metadata": {},
     "output_type": "execute_result"
    }
   ],
   "source": [
    "df['tags']"
   ]
  },
  {
   "cell_type": "code",
   "execution_count": 24,
   "metadata": {},
   "outputs": [
    {
     "data": {
      "text/html": [
       "<div>\n",
       "<style scoped>\n",
       "    .dataframe tbody tr th:only-of-type {\n",
       "        vertical-align: middle;\n",
       "    }\n",
       "\n",
       "    .dataframe tbody tr th {\n",
       "        vertical-align: top;\n",
       "    }\n",
       "\n",
       "    .dataframe thead th {\n",
       "        text-align: right;\n",
       "    }\n",
       "</style>\n",
       "<table border=\"1\" class=\"dataframe\">\n",
       "  <thead>\n",
       "    <tr style=\"text-align: right;\">\n",
       "      <th></th>\n",
       "      <th>Medicine Name</th>\n",
       "      <th>Composition</th>\n",
       "      <th>Uses</th>\n",
       "      <th>Side_effects</th>\n",
       "      <th>Image URL</th>\n",
       "      <th>Manufacturer</th>\n",
       "      <th>Excellent Review %</th>\n",
       "      <th>Average Review %</th>\n",
       "      <th>Poor Review %</th>\n",
       "      <th>Medicine Score</th>\n",
       "      <th>tags</th>\n",
       "    </tr>\n",
       "  </thead>\n",
       "  <tbody>\n",
       "    <tr>\n",
       "      <th>0</th>\n",
       "      <td>Avastin 400mg Injection</td>\n",
       "      <td>Bevacizumab (400mg)</td>\n",
       "      <td>Cancer of colon and rectum Non-small cell lun...</td>\n",
       "      <td>Rectal bleeding Taste change Headache Noseblee...</td>\n",
       "      <td>https://onemg.gumlet.io/l_watermark_346,w_480,...</td>\n",
       "      <td>Roche Products India Pvt Ltd</td>\n",
       "      <td>22</td>\n",
       "      <td>56</td>\n",
       "      <td>22</td>\n",
       "      <td>3.00</td>\n",
       "      <td>Bevacizumab (400mg) Cancer of colon and rectum...</td>\n",
       "    </tr>\n",
       "    <tr>\n",
       "      <th>1</th>\n",
       "      <td>Augmentin 625 Duo Tablet</td>\n",
       "      <td>Amoxycillin  (500mg) +  Clavulanic Acid (125mg)</td>\n",
       "      <td>Treatment of Bacterial infections</td>\n",
       "      <td>Vomiting Nausea Diarrhea Mucocutaneous candidi...</td>\n",
       "      <td>https://onemg.gumlet.io/l_watermark_346,w_480,...</td>\n",
       "      <td>Glaxo SmithKline Pharmaceuticals Ltd</td>\n",
       "      <td>47</td>\n",
       "      <td>35</td>\n",
       "      <td>18</td>\n",
       "      <td>3.58</td>\n",
       "      <td>Amoxycillin  (500mg) +  Clavulanic Acid (125mg...</td>\n",
       "    </tr>\n",
       "    <tr>\n",
       "      <th>2</th>\n",
       "      <td>Azithral 500 Tablet</td>\n",
       "      <td>Azithromycin (500mg)</td>\n",
       "      <td>Treatment of Bacterial infections</td>\n",
       "      <td>Nausea Abdominal pain Diarrhea</td>\n",
       "      <td>https://onemg.gumlet.io/l_watermark_346,w_480,...</td>\n",
       "      <td>Alembic Pharmaceuticals Ltd</td>\n",
       "      <td>39</td>\n",
       "      <td>40</td>\n",
       "      <td>21</td>\n",
       "      <td>3.36</td>\n",
       "      <td>Azithromycin (500mg)Treatment of Bacterial inf...</td>\n",
       "    </tr>\n",
       "    <tr>\n",
       "      <th>3</th>\n",
       "      <td>Ascoril LS Syrup</td>\n",
       "      <td>Ambroxol (30mg/5ml) + Levosalbutamol (1mg/5ml)...</td>\n",
       "      <td>Treatment of Cough with mucus</td>\n",
       "      <td>Nausea Vomiting Diarrhea Upset stomach Stomach...</td>\n",
       "      <td>https://onemg.gumlet.io/l_watermark_346,w_480,...</td>\n",
       "      <td>Glenmark Pharmaceuticals Ltd</td>\n",
       "      <td>24</td>\n",
       "      <td>41</td>\n",
       "      <td>35</td>\n",
       "      <td>2.78</td>\n",
       "      <td>Ambroxol (30mg/5ml) + Levosalbutamol (1mg/5ml)...</td>\n",
       "    </tr>\n",
       "    <tr>\n",
       "      <th>4</th>\n",
       "      <td>Aciloc 150 Tablet</td>\n",
       "      <td>Ranitidine (150mg)</td>\n",
       "      <td>Treatment of Gastroesophageal reflux disease (...</td>\n",
       "      <td>Headache Diarrhea Gastrointestinal disturbance</td>\n",
       "      <td>https://onemg.gumlet.io/l_watermark_346,w_480,...</td>\n",
       "      <td>Cadila Pharmaceuticals Ltd</td>\n",
       "      <td>34</td>\n",
       "      <td>37</td>\n",
       "      <td>29</td>\n",
       "      <td>3.10</td>\n",
       "      <td>Ranitidine (150mg)Treatment of Gastroesophagea...</td>\n",
       "    </tr>\n",
       "  </tbody>\n",
       "</table>\n",
       "</div>"
      ],
      "text/plain": [
       "              Medicine Name  \\\n",
       "0   Avastin 400mg Injection   \n",
       "1  Augmentin 625 Duo Tablet   \n",
       "2       Azithral 500 Tablet   \n",
       "3          Ascoril LS Syrup   \n",
       "4         Aciloc 150 Tablet   \n",
       "\n",
       "                                         Composition  \\\n",
       "0                                Bevacizumab (400mg)   \n",
       "1    Amoxycillin  (500mg) +  Clavulanic Acid (125mg)   \n",
       "2                               Azithromycin (500mg)   \n",
       "3  Ambroxol (30mg/5ml) + Levosalbutamol (1mg/5ml)...   \n",
       "4                                 Ranitidine (150mg)   \n",
       "\n",
       "                                                Uses  \\\n",
       "0   Cancer of colon and rectum Non-small cell lun...   \n",
       "1                  Treatment of Bacterial infections   \n",
       "2                  Treatment of Bacterial infections   \n",
       "3                      Treatment of Cough with mucus   \n",
       "4  Treatment of Gastroesophageal reflux disease (...   \n",
       "\n",
       "                                        Side_effects  \\\n",
       "0  Rectal bleeding Taste change Headache Noseblee...   \n",
       "1  Vomiting Nausea Diarrhea Mucocutaneous candidi...   \n",
       "2                     Nausea Abdominal pain Diarrhea   \n",
       "3  Nausea Vomiting Diarrhea Upset stomach Stomach...   \n",
       "4     Headache Diarrhea Gastrointestinal disturbance   \n",
       "\n",
       "                                           Image URL  \\\n",
       "0  https://onemg.gumlet.io/l_watermark_346,w_480,...   \n",
       "1  https://onemg.gumlet.io/l_watermark_346,w_480,...   \n",
       "2  https://onemg.gumlet.io/l_watermark_346,w_480,...   \n",
       "3  https://onemg.gumlet.io/l_watermark_346,w_480,...   \n",
       "4  https://onemg.gumlet.io/l_watermark_346,w_480,...   \n",
       "\n",
       "                           Manufacturer  Excellent Review %  Average Review %  \\\n",
       "0          Roche Products India Pvt Ltd                  22                56   \n",
       "1  Glaxo SmithKline Pharmaceuticals Ltd                  47                35   \n",
       "2           Alembic Pharmaceuticals Ltd                  39                40   \n",
       "3          Glenmark Pharmaceuticals Ltd                  24                41   \n",
       "4            Cadila Pharmaceuticals Ltd                  34                37   \n",
       "\n",
       "   Poor Review %  Medicine Score  \\\n",
       "0             22            3.00   \n",
       "1             18            3.58   \n",
       "2             21            3.36   \n",
       "3             35            2.78   \n",
       "4             29            3.10   \n",
       "\n",
       "                                                tags  \n",
       "0  Bevacizumab (400mg) Cancer of colon and rectum...  \n",
       "1  Amoxycillin  (500mg) +  Clavulanic Acid (125mg...  \n",
       "2  Azithromycin (500mg)Treatment of Bacterial inf...  \n",
       "3  Ambroxol (30mg/5ml) + Levosalbutamol (1mg/5ml)...  \n",
       "4  Ranitidine (150mg)Treatment of Gastroesophagea...  "
      ]
     },
     "execution_count": 24,
     "metadata": {},
     "output_type": "execute_result"
    }
   ],
   "source": [
    "df.head()"
   ]
  },
  {
   "cell_type": "code",
   "execution_count": 25,
   "metadata": {},
   "outputs": [
    {
     "data": {
      "text/plain": [
       "Index(['Medicine Name', 'Composition', 'Uses', 'Side_effects', 'Image URL',\n",
       "       'Manufacturer', 'Excellent Review %', 'Average Review %',\n",
       "       'Poor Review %', 'Medicine Score', 'tags'],\n",
       "      dtype='object')"
      ]
     },
     "execution_count": 25,
     "metadata": {},
     "output_type": "execute_result"
    }
   ],
   "source": [
    "df.columns"
   ]
  },
  {
   "cell_type": "code",
   "execution_count": 26,
   "metadata": {},
   "outputs": [],
   "source": [
    "new_df = df[['Medicine Name','Uses','Composition','Side_effects','Manufacturer','Medicine Score','Image URL']]"
   ]
  },
  {
   "cell_type": "code",
   "execution_count": 27,
   "metadata": {},
   "outputs": [
    {
     "data": {
      "text/html": [
       "<div>\n",
       "<style scoped>\n",
       "    .dataframe tbody tr th:only-of-type {\n",
       "        vertical-align: middle;\n",
       "    }\n",
       "\n",
       "    .dataframe tbody tr th {\n",
       "        vertical-align: top;\n",
       "    }\n",
       "\n",
       "    .dataframe thead th {\n",
       "        text-align: right;\n",
       "    }\n",
       "</style>\n",
       "<table border=\"1\" class=\"dataframe\">\n",
       "  <thead>\n",
       "    <tr style=\"text-align: right;\">\n",
       "      <th></th>\n",
       "      <th>Medicine Name</th>\n",
       "      <th>Uses</th>\n",
       "      <th>Composition</th>\n",
       "      <th>Side_effects</th>\n",
       "      <th>Manufacturer</th>\n",
       "      <th>Medicine Score</th>\n",
       "      <th>Image URL</th>\n",
       "    </tr>\n",
       "  </thead>\n",
       "  <tbody>\n",
       "    <tr>\n",
       "      <th>0</th>\n",
       "      <td>Avastin 400mg Injection</td>\n",
       "      <td>Cancer of colon and rectum Non-small cell lun...</td>\n",
       "      <td>Bevacizumab (400mg)</td>\n",
       "      <td>Rectal bleeding Taste change Headache Noseblee...</td>\n",
       "      <td>Roche Products India Pvt Ltd</td>\n",
       "      <td>3.00</td>\n",
       "      <td>https://onemg.gumlet.io/l_watermark_346,w_480,...</td>\n",
       "    </tr>\n",
       "    <tr>\n",
       "      <th>1</th>\n",
       "      <td>Augmentin 625 Duo Tablet</td>\n",
       "      <td>Treatment of Bacterial infections</td>\n",
       "      <td>Amoxycillin  (500mg) +  Clavulanic Acid (125mg)</td>\n",
       "      <td>Vomiting Nausea Diarrhea Mucocutaneous candidi...</td>\n",
       "      <td>Glaxo SmithKline Pharmaceuticals Ltd</td>\n",
       "      <td>3.58</td>\n",
       "      <td>https://onemg.gumlet.io/l_watermark_346,w_480,...</td>\n",
       "    </tr>\n",
       "    <tr>\n",
       "      <th>2</th>\n",
       "      <td>Azithral 500 Tablet</td>\n",
       "      <td>Treatment of Bacterial infections</td>\n",
       "      <td>Azithromycin (500mg)</td>\n",
       "      <td>Nausea Abdominal pain Diarrhea</td>\n",
       "      <td>Alembic Pharmaceuticals Ltd</td>\n",
       "      <td>3.36</td>\n",
       "      <td>https://onemg.gumlet.io/l_watermark_346,w_480,...</td>\n",
       "    </tr>\n",
       "    <tr>\n",
       "      <th>3</th>\n",
       "      <td>Ascoril LS Syrup</td>\n",
       "      <td>Treatment of Cough with mucus</td>\n",
       "      <td>Ambroxol (30mg/5ml) + Levosalbutamol (1mg/5ml)...</td>\n",
       "      <td>Nausea Vomiting Diarrhea Upset stomach Stomach...</td>\n",
       "      <td>Glenmark Pharmaceuticals Ltd</td>\n",
       "      <td>2.78</td>\n",
       "      <td>https://onemg.gumlet.io/l_watermark_346,w_480,...</td>\n",
       "    </tr>\n",
       "    <tr>\n",
       "      <th>4</th>\n",
       "      <td>Aciloc 150 Tablet</td>\n",
       "      <td>Treatment of Gastroesophageal reflux disease (...</td>\n",
       "      <td>Ranitidine (150mg)</td>\n",
       "      <td>Headache Diarrhea Gastrointestinal disturbance</td>\n",
       "      <td>Cadila Pharmaceuticals Ltd</td>\n",
       "      <td>3.10</td>\n",
       "      <td>https://onemg.gumlet.io/l_watermark_346,w_480,...</td>\n",
       "    </tr>\n",
       "    <tr>\n",
       "      <th>...</th>\n",
       "      <td>...</td>\n",
       "      <td>...</td>\n",
       "      <td>...</td>\n",
       "      <td>...</td>\n",
       "      <td>...</td>\n",
       "      <td>...</td>\n",
       "      <td>...</td>\n",
       "    </tr>\n",
       "    <tr>\n",
       "      <th>11819</th>\n",
       "      <td>Zenegra Lido Spray</td>\n",
       "      <td>Local anesthesia (Numb tissues in a specific ...</td>\n",
       "      <td>Lidocaine (9.5% w/w)</td>\n",
       "      <td>Allergic reaction Application site reactions b...</td>\n",
       "      <td>Alkem Laboratories Ltd</td>\n",
       "      <td>2.34</td>\n",
       "      <td>https://onemg.gumlet.io/l_watermark_346,w_480,...</td>\n",
       "    </tr>\n",
       "    <tr>\n",
       "      <th>11820</th>\n",
       "      <td>Zilarta-CT 40/6.25 Tablet</td>\n",
       "      <td>Hypertension (high blood pressure)</td>\n",
       "      <td>Azilsartan medoxomil (40mg) + Chlorthalidone (...</td>\n",
       "      <td>Dizziness Tiredness Decreased potassium level ...</td>\n",
       "      <td>Micro Labs Ltd</td>\n",
       "      <td>4.34</td>\n",
       "      <td>https://onemg.gumlet.io/l_watermark_346,w_480,...</td>\n",
       "    </tr>\n",
       "    <tr>\n",
       "      <th>11821</th>\n",
       "      <td>Zipcoz Tablet</td>\n",
       "      <td>Polycystic ovarian syndrome (PCOS)</td>\n",
       "      <td>Chromium Picolinate (100mcg) + D-Chiro Inosito...</td>\n",
       "      <td>Rash Nausea Paresthesia tingling or pricking s...</td>\n",
       "      <td>Lifeline Remedies India Pvt Ltd</td>\n",
       "      <td>2.60</td>\n",
       "      <td>https://onemg.gumlet.io/l_watermark_346,w_480,...</td>\n",
       "    </tr>\n",
       "    <tr>\n",
       "      <th>11822</th>\n",
       "      <td>Zestasil 100 Tablet</td>\n",
       "      <td>Treatment of Erectile dysfunction</td>\n",
       "      <td>Sildenafil (100mg)</td>\n",
       "      <td>Flushing sense of warmth in the face ears neck...</td>\n",
       "      <td>TBG pharma ltd</td>\n",
       "      <td>3.50</td>\n",
       "      <td>https://onemg.gumlet.io/l_watermark_346,w_480,...</td>\n",
       "    </tr>\n",
       "    <tr>\n",
       "      <th>11823</th>\n",
       "      <td>Zedruff Shampoo</td>\n",
       "      <td>Treatment of Dandruff</td>\n",
       "      <td>Ketoconazole (2% w/v) + Zinc pyrithione (1% w/v)</td>\n",
       "      <td>Application site reactions burning irritation ...</td>\n",
       "      <td>Minova Life Sciences Pvt Ltd</td>\n",
       "      <td>1.00</td>\n",
       "      <td>https://onemg.gumlet.io/l_watermark_346,w_480,...</td>\n",
       "    </tr>\n",
       "  </tbody>\n",
       "</table>\n",
       "<p>11741 rows × 7 columns</p>\n",
       "</div>"
      ],
      "text/plain": [
       "                   Medicine Name  \\\n",
       "0        Avastin 400mg Injection   \n",
       "1       Augmentin 625 Duo Tablet   \n",
       "2            Azithral 500 Tablet   \n",
       "3               Ascoril LS Syrup   \n",
       "4              Aciloc 150 Tablet   \n",
       "...                          ...   \n",
       "11819         Zenegra Lido Spray   \n",
       "11820  Zilarta-CT 40/6.25 Tablet   \n",
       "11821              Zipcoz Tablet   \n",
       "11822        Zestasil 100 Tablet   \n",
       "11823            Zedruff Shampoo   \n",
       "\n",
       "                                                    Uses  \\\n",
       "0       Cancer of colon and rectum Non-small cell lun...   \n",
       "1                      Treatment of Bacterial infections   \n",
       "2                      Treatment of Bacterial infections   \n",
       "3                          Treatment of Cough with mucus   \n",
       "4      Treatment of Gastroesophageal reflux disease (...   \n",
       "...                                                  ...   \n",
       "11819   Local anesthesia (Numb tissues in a specific ...   \n",
       "11820                 Hypertension (high blood pressure)   \n",
       "11821                 Polycystic ovarian syndrome (PCOS)   \n",
       "11822                  Treatment of Erectile dysfunction   \n",
       "11823                              Treatment of Dandruff   \n",
       "\n",
       "                                             Composition  \\\n",
       "0                                    Bevacizumab (400mg)   \n",
       "1        Amoxycillin  (500mg) +  Clavulanic Acid (125mg)   \n",
       "2                                   Azithromycin (500mg)   \n",
       "3      Ambroxol (30mg/5ml) + Levosalbutamol (1mg/5ml)...   \n",
       "4                                     Ranitidine (150mg)   \n",
       "...                                                  ...   \n",
       "11819                               Lidocaine (9.5% w/w)   \n",
       "11820  Azilsartan medoxomil (40mg) + Chlorthalidone (...   \n",
       "11821  Chromium Picolinate (100mcg) + D-Chiro Inosito...   \n",
       "11822                                 Sildenafil (100mg)   \n",
       "11823   Ketoconazole (2% w/v) + Zinc pyrithione (1% w/v)   \n",
       "\n",
       "                                            Side_effects  \\\n",
       "0      Rectal bleeding Taste change Headache Noseblee...   \n",
       "1      Vomiting Nausea Diarrhea Mucocutaneous candidi...   \n",
       "2                         Nausea Abdominal pain Diarrhea   \n",
       "3      Nausea Vomiting Diarrhea Upset stomach Stomach...   \n",
       "4         Headache Diarrhea Gastrointestinal disturbance   \n",
       "...                                                  ...   \n",
       "11819  Allergic reaction Application site reactions b...   \n",
       "11820  Dizziness Tiredness Decreased potassium level ...   \n",
       "11821  Rash Nausea Paresthesia tingling or pricking s...   \n",
       "11822  Flushing sense of warmth in the face ears neck...   \n",
       "11823  Application site reactions burning irritation ...   \n",
       "\n",
       "                               Manufacturer  Medicine Score  \\\n",
       "0              Roche Products India Pvt Ltd            3.00   \n",
       "1      Glaxo SmithKline Pharmaceuticals Ltd            3.58   \n",
       "2               Alembic Pharmaceuticals Ltd            3.36   \n",
       "3              Glenmark Pharmaceuticals Ltd            2.78   \n",
       "4                Cadila Pharmaceuticals Ltd            3.10   \n",
       "...                                     ...             ...   \n",
       "11819                Alkem Laboratories Ltd            2.34   \n",
       "11820                        Micro Labs Ltd            4.34   \n",
       "11821       Lifeline Remedies India Pvt Ltd            2.60   \n",
       "11822                        TBG pharma ltd            3.50   \n",
       "11823          Minova Life Sciences Pvt Ltd            1.00   \n",
       "\n",
       "                                               Image URL  \n",
       "0      https://onemg.gumlet.io/l_watermark_346,w_480,...  \n",
       "1      https://onemg.gumlet.io/l_watermark_346,w_480,...  \n",
       "2      https://onemg.gumlet.io/l_watermark_346,w_480,...  \n",
       "3      https://onemg.gumlet.io/l_watermark_346,w_480,...  \n",
       "4      https://onemg.gumlet.io/l_watermark_346,w_480,...  \n",
       "...                                                  ...  \n",
       "11819  https://onemg.gumlet.io/l_watermark_346,w_480,...  \n",
       "11820  https://onemg.gumlet.io/l_watermark_346,w_480,...  \n",
       "11821  https://onemg.gumlet.io/l_watermark_346,w_480,...  \n",
       "11822  https://onemg.gumlet.io/l_watermark_346,w_480,...  \n",
       "11823  https://onemg.gumlet.io/l_watermark_346,w_480,...  \n",
       "\n",
       "[11741 rows x 7 columns]"
      ]
     },
     "execution_count": 27,
     "metadata": {},
     "output_type": "execute_result"
    }
   ],
   "source": [
    "new_df"
   ]
  },
  {
   "cell_type": "code",
   "execution_count": 28,
   "metadata": {},
   "outputs": [
    {
     "name": "stderr",
     "output_type": "stream",
     "text": [
      "C:\\Users\\barav\\AppData\\Local\\Temp\\ipykernel_12208\\2788549837.py:1: SettingWithCopyWarning: \n",
      "A value is trying to be set on a copy of a slice from a DataFrame\n",
      "\n",
      "See the caveats in the documentation: https://pandas.pydata.org/pandas-docs/stable/user_guide/indexing.html#returning-a-view-versus-a-copy\n",
      "  new_df.rename(columns = {'Medicine Name':'Name', }, inplace = True)\n",
      "C:\\Users\\barav\\AppData\\Local\\Temp\\ipykernel_12208\\2788549837.py:2: SettingWithCopyWarning: \n",
      "A value is trying to be set on a copy of a slice from a DataFrame\n",
      "\n",
      "See the caveats in the documentation: https://pandas.pydata.org/pandas-docs/stable/user_guide/indexing.html#returning-a-view-versus-a-copy\n",
      "  new_df.rename(columns = {'Medicine Score':'Score'}, inplace = True)\n",
      "C:\\Users\\barav\\AppData\\Local\\Temp\\ipykernel_12208\\2788549837.py:3: SettingWithCopyWarning: \n",
      "A value is trying to be set on a copy of a slice from a DataFrame\n",
      "\n",
      "See the caveats in the documentation: https://pandas.pydata.org/pandas-docs/stable/user_guide/indexing.html#returning-a-view-versus-a-copy\n",
      "  new_df.rename(columns = {'Image URL':'img_url', }, inplace = True)\n"
     ]
    }
   ],
   "source": [
    "new_df.rename(columns = {'Medicine Name':'Name', }, inplace = True)\n",
    "new_df.rename(columns = {'Medicine Score':'Score'}, inplace = True)\n",
    "new_df.rename(columns = {'Image URL':'img_url', }, inplace = True)"
   ]
  },
  {
   "cell_type": "code",
   "execution_count": 29,
   "metadata": {},
   "outputs": [
    {
     "data": {
      "text/html": [
       "<div>\n",
       "<style scoped>\n",
       "    .dataframe tbody tr th:only-of-type {\n",
       "        vertical-align: middle;\n",
       "    }\n",
       "\n",
       "    .dataframe tbody tr th {\n",
       "        vertical-align: top;\n",
       "    }\n",
       "\n",
       "    .dataframe thead th {\n",
       "        text-align: right;\n",
       "    }\n",
       "</style>\n",
       "<table border=\"1\" class=\"dataframe\">\n",
       "  <thead>\n",
       "    <tr style=\"text-align: right;\">\n",
       "      <th></th>\n",
       "      <th>Name</th>\n",
       "      <th>Uses</th>\n",
       "      <th>Composition</th>\n",
       "      <th>Side_effects</th>\n",
       "      <th>Manufacturer</th>\n",
       "      <th>Score</th>\n",
       "      <th>img_url</th>\n",
       "    </tr>\n",
       "  </thead>\n",
       "  <tbody>\n",
       "    <tr>\n",
       "      <th>0</th>\n",
       "      <td>Avastin 400mg Injection</td>\n",
       "      <td>Cancer of colon and rectum Non-small cell lun...</td>\n",
       "      <td>Bevacizumab (400mg)</td>\n",
       "      <td>Rectal bleeding Taste change Headache Noseblee...</td>\n",
       "      <td>Roche Products India Pvt Ltd</td>\n",
       "      <td>3.00</td>\n",
       "      <td>https://onemg.gumlet.io/l_watermark_346,w_480,...</td>\n",
       "    </tr>\n",
       "    <tr>\n",
       "      <th>1</th>\n",
       "      <td>Augmentin 625 Duo Tablet</td>\n",
       "      <td>Treatment of Bacterial infections</td>\n",
       "      <td>Amoxycillin  (500mg) +  Clavulanic Acid (125mg)</td>\n",
       "      <td>Vomiting Nausea Diarrhea Mucocutaneous candidi...</td>\n",
       "      <td>Glaxo SmithKline Pharmaceuticals Ltd</td>\n",
       "      <td>3.58</td>\n",
       "      <td>https://onemg.gumlet.io/l_watermark_346,w_480,...</td>\n",
       "    </tr>\n",
       "    <tr>\n",
       "      <th>2</th>\n",
       "      <td>Azithral 500 Tablet</td>\n",
       "      <td>Treatment of Bacterial infections</td>\n",
       "      <td>Azithromycin (500mg)</td>\n",
       "      <td>Nausea Abdominal pain Diarrhea</td>\n",
       "      <td>Alembic Pharmaceuticals Ltd</td>\n",
       "      <td>3.36</td>\n",
       "      <td>https://onemg.gumlet.io/l_watermark_346,w_480,...</td>\n",
       "    </tr>\n",
       "    <tr>\n",
       "      <th>3</th>\n",
       "      <td>Ascoril LS Syrup</td>\n",
       "      <td>Treatment of Cough with mucus</td>\n",
       "      <td>Ambroxol (30mg/5ml) + Levosalbutamol (1mg/5ml)...</td>\n",
       "      <td>Nausea Vomiting Diarrhea Upset stomach Stomach...</td>\n",
       "      <td>Glenmark Pharmaceuticals Ltd</td>\n",
       "      <td>2.78</td>\n",
       "      <td>https://onemg.gumlet.io/l_watermark_346,w_480,...</td>\n",
       "    </tr>\n",
       "    <tr>\n",
       "      <th>4</th>\n",
       "      <td>Aciloc 150 Tablet</td>\n",
       "      <td>Treatment of Gastroesophageal reflux disease (...</td>\n",
       "      <td>Ranitidine (150mg)</td>\n",
       "      <td>Headache Diarrhea Gastrointestinal disturbance</td>\n",
       "      <td>Cadila Pharmaceuticals Ltd</td>\n",
       "      <td>3.10</td>\n",
       "      <td>https://onemg.gumlet.io/l_watermark_346,w_480,...</td>\n",
       "    </tr>\n",
       "  </tbody>\n",
       "</table>\n",
       "</div>"
      ],
      "text/plain": [
       "                       Name  \\\n",
       "0   Avastin 400mg Injection   \n",
       "1  Augmentin 625 Duo Tablet   \n",
       "2       Azithral 500 Tablet   \n",
       "3          Ascoril LS Syrup   \n",
       "4         Aciloc 150 Tablet   \n",
       "\n",
       "                                                Uses  \\\n",
       "0   Cancer of colon and rectum Non-small cell lun...   \n",
       "1                  Treatment of Bacterial infections   \n",
       "2                  Treatment of Bacterial infections   \n",
       "3                      Treatment of Cough with mucus   \n",
       "4  Treatment of Gastroesophageal reflux disease (...   \n",
       "\n",
       "                                         Composition  \\\n",
       "0                                Bevacizumab (400mg)   \n",
       "1    Amoxycillin  (500mg) +  Clavulanic Acid (125mg)   \n",
       "2                               Azithromycin (500mg)   \n",
       "3  Ambroxol (30mg/5ml) + Levosalbutamol (1mg/5ml)...   \n",
       "4                                 Ranitidine (150mg)   \n",
       "\n",
       "                                        Side_effects  \\\n",
       "0  Rectal bleeding Taste change Headache Noseblee...   \n",
       "1  Vomiting Nausea Diarrhea Mucocutaneous candidi...   \n",
       "2                     Nausea Abdominal pain Diarrhea   \n",
       "3  Nausea Vomiting Diarrhea Upset stomach Stomach...   \n",
       "4     Headache Diarrhea Gastrointestinal disturbance   \n",
       "\n",
       "                           Manufacturer  Score  \\\n",
       "0          Roche Products India Pvt Ltd   3.00   \n",
       "1  Glaxo SmithKline Pharmaceuticals Ltd   3.58   \n",
       "2           Alembic Pharmaceuticals Ltd   3.36   \n",
       "3          Glenmark Pharmaceuticals Ltd   2.78   \n",
       "4            Cadila Pharmaceuticals Ltd   3.10   \n",
       "\n",
       "                                             img_url  \n",
       "0  https://onemg.gumlet.io/l_watermark_346,w_480,...  \n",
       "1  https://onemg.gumlet.io/l_watermark_346,w_480,...  \n",
       "2  https://onemg.gumlet.io/l_watermark_346,w_480,...  \n",
       "3  https://onemg.gumlet.io/l_watermark_346,w_480,...  \n",
       "4  https://onemg.gumlet.io/l_watermark_346,w_480,...  "
      ]
     },
     "execution_count": 29,
     "metadata": {},
     "output_type": "execute_result"
    }
   ],
   "source": [
    "new_df.head()"
   ]
  },
  {
   "cell_type": "code",
   "execution_count": 30,
   "metadata": {},
   "outputs": [],
   "source": [
    "new_df.to_csv(\"med.csv\")"
   ]
  },
  {
   "cell_type": "code",
   "execution_count": 32,
   "metadata": {},
   "outputs": [
    {
     "data": {
      "text/plain": [
       "Name            0\n",
       "Uses            0\n",
       "Composition     0\n",
       "Side_effects    0\n",
       "Manufacturer    0\n",
       "Score           0\n",
       "img_url         0\n",
       "dtype: int64"
      ]
     },
     "execution_count": 32,
     "metadata": {},
     "output_type": "execute_result"
    }
   ],
   "source": [
    "new_df.isna().sum()"
   ]
  },
  {
   "cell_type": "markdown",
   "metadata": {},
   "source": [
    "### Recommender System"
   ]
  },
  {
   "cell_type": "code",
   "execution_count": 315,
   "metadata": {},
   "outputs": [],
   "source": [
    "import nltk\n",
    "from nltk.stem.porter import PorterStemmer\n",
    "ps = PorterStemmer()"
   ]
  },
  {
   "cell_type": "code",
   "execution_count": 316,
   "metadata": {},
   "outputs": [],
   "source": [
    "def stem(text):\n",
    "    y = []\n",
    "    for i in text.split():\n",
    "        y.append(ps.stem(i))\n",
    "        \n",
    "    return \" \".join(y)"
   ]
  },
  {
   "cell_type": "code",
   "execution_count": 317,
   "metadata": {},
   "outputs": [
    {
     "name": "stderr",
     "output_type": "stream",
     "text": [
      "C:\\Users\\barav\\AppData\\Local\\Temp\\ipykernel_23716\\3213734980.py:1: SettingWithCopyWarning: \n",
      "A value is trying to be set on a copy of a slice from a DataFrame.\n",
      "Try using .loc[row_indexer,col_indexer] = value instead\n",
      "\n",
      "See the caveats in the documentation: https://pandas.pydata.org/pandas-docs/stable/user_guide/indexing.html#returning-a-view-versus-a-copy\n",
      "  new_df['tags'] = new_df['tags'].apply(stem)\n"
     ]
    }
   ],
   "source": [
    "new_df['tags'] = new_df['tags'].apply(stem)"
   ]
  },
  {
   "cell_type": "markdown",
   "metadata": {},
   "source": [
    "### Feature Vectorization"
   ]
  },
  {
   "cell_type": "code",
   "execution_count": 318,
   "metadata": {},
   "outputs": [],
   "source": [
    "from sklearn.feature_extraction.text import CountVectorizer\n",
    "cv = CountVectorizer(max_features = 5000, stop_words='english')"
   ]
  },
  {
   "cell_type": "code",
   "execution_count": 319,
   "metadata": {},
   "outputs": [],
   "source": [
    "vector  = cv.fit_transform(new_df['tags']).toarray()"
   ]
  },
  {
   "cell_type": "code",
   "execution_count": 320,
   "metadata": {},
   "outputs": [
    {
     "data": {
      "text/plain": [
       "2166"
      ]
     },
     "execution_count": 320,
     "metadata": {},
     "output_type": "execute_result"
    }
   ],
   "source": [
    "len(vector[0])"
   ]
  },
  {
   "cell_type": "code",
   "execution_count": 321,
   "metadata": {},
   "outputs": [
    {
     "data": {
      "text/plain": [
       "2166"
      ]
     },
     "execution_count": 321,
     "metadata": {},
     "output_type": "execute_result"
    }
   ],
   "source": [
    "len(cv.get_feature_names_out())"
   ]
  },
  {
   "cell_type": "code",
   "execution_count": 322,
   "metadata": {},
   "outputs": [
    {
     "data": {
      "text/html": [
       "<div>\n",
       "<style scoped>\n",
       "    .dataframe tbody tr th:only-of-type {\n",
       "        vertical-align: middle;\n",
       "    }\n",
       "\n",
       "    .dataframe tbody tr th {\n",
       "        vertical-align: top;\n",
       "    }\n",
       "\n",
       "    .dataframe thead th {\n",
       "        text-align: right;\n",
       "    }\n",
       "</style>\n",
       "<table border=\"1\" class=\"dataframe\">\n",
       "  <thead>\n",
       "    <tr style=\"text-align: right;\">\n",
       "      <th></th>\n",
       "      <th>Name</th>\n",
       "      <th>Uses</th>\n",
       "      <th>Composition</th>\n",
       "      <th>tags</th>\n",
       "      <th>Manufacturer</th>\n",
       "      <th>Score</th>\n",
       "      <th>img_url</th>\n",
       "    </tr>\n",
       "  </thead>\n",
       "  <tbody>\n",
       "    <tr>\n",
       "      <th>0</th>\n",
       "      <td>Avastin 400mg Injection</td>\n",
       "      <td>Cancer of colon and rectum Non-small cell lun...</td>\n",
       "      <td>Bevacizumab (400mg)</td>\n",
       "      <td>bevacizumab (400mg) cancer of colon and rectum...</td>\n",
       "      <td>Roche Products India Pvt Ltd</td>\n",
       "      <td>3.00</td>\n",
       "      <td>https://onemg.gumlet.io/l_watermark_346,w_480,...</td>\n",
       "    </tr>\n",
       "    <tr>\n",
       "      <th>1</th>\n",
       "      <td>Augmentin 625 Duo Tablet</td>\n",
       "      <td>Treatment of Bacterial infections</td>\n",
       "      <td>Amoxycillin  (500mg) +  Clavulanic Acid (125mg)</td>\n",
       "      <td>amoxycillin (500mg) + clavulan acid (125mg)tre...</td>\n",
       "      <td>Glaxo SmithKline Pharmaceuticals Ltd</td>\n",
       "      <td>3.58</td>\n",
       "      <td>https://onemg.gumlet.io/l_watermark_346,w_480,...</td>\n",
       "    </tr>\n",
       "    <tr>\n",
       "      <th>2</th>\n",
       "      <td>Azithral 500 Tablet</td>\n",
       "      <td>Treatment of Bacterial infections</td>\n",
       "      <td>Azithromycin (500mg)</td>\n",
       "      <td>azithromycin (500mg)treatment of bacteri infect</td>\n",
       "      <td>Alembic Pharmaceuticals Ltd</td>\n",
       "      <td>3.36</td>\n",
       "      <td>https://onemg.gumlet.io/l_watermark_346,w_480,...</td>\n",
       "    </tr>\n",
       "    <tr>\n",
       "      <th>3</th>\n",
       "      <td>Ascoril LS Syrup</td>\n",
       "      <td>Treatment of Cough with mucus</td>\n",
       "      <td>Ambroxol (30mg/5ml) + Levosalbutamol (1mg/5ml)...</td>\n",
       "      <td>ambroxol (30mg/5ml) + levosalbutamol (1mg/5ml)...</td>\n",
       "      <td>Glenmark Pharmaceuticals Ltd</td>\n",
       "      <td>2.78</td>\n",
       "      <td>https://onemg.gumlet.io/l_watermark_346,w_480,...</td>\n",
       "    </tr>\n",
       "    <tr>\n",
       "      <th>4</th>\n",
       "      <td>Aciloc 150 Tablet</td>\n",
       "      <td>Treatment of Gastroesophageal reflux disease (...</td>\n",
       "      <td>Ranitidine (150mg)</td>\n",
       "      <td>ranitidin (150mg)treatment of gastroesophag re...</td>\n",
       "      <td>Cadila Pharmaceuticals Ltd</td>\n",
       "      <td>3.10</td>\n",
       "      <td>https://onemg.gumlet.io/l_watermark_346,w_480,...</td>\n",
       "    </tr>\n",
       "  </tbody>\n",
       "</table>\n",
       "</div>"
      ],
      "text/plain": [
       "                       Name  \\\n",
       "0   Avastin 400mg Injection   \n",
       "1  Augmentin 625 Duo Tablet   \n",
       "2       Azithral 500 Tablet   \n",
       "3          Ascoril LS Syrup   \n",
       "4         Aciloc 150 Tablet   \n",
       "\n",
       "                                                Uses  \\\n",
       "0   Cancer of colon and rectum Non-small cell lun...   \n",
       "1                  Treatment of Bacterial infections   \n",
       "2                  Treatment of Bacterial infections   \n",
       "3                      Treatment of Cough with mucus   \n",
       "4  Treatment of Gastroesophageal reflux disease (...   \n",
       "\n",
       "                                         Composition  \\\n",
       "0                                Bevacizumab (400mg)   \n",
       "1    Amoxycillin  (500mg) +  Clavulanic Acid (125mg)   \n",
       "2                               Azithromycin (500mg)   \n",
       "3  Ambroxol (30mg/5ml) + Levosalbutamol (1mg/5ml)...   \n",
       "4                                 Ranitidine (150mg)   \n",
       "\n",
       "                                                tags  \\\n",
       "0  bevacizumab (400mg) cancer of colon and rectum...   \n",
       "1  amoxycillin (500mg) + clavulan acid (125mg)tre...   \n",
       "2    azithromycin (500mg)treatment of bacteri infect   \n",
       "3  ambroxol (30mg/5ml) + levosalbutamol (1mg/5ml)...   \n",
       "4  ranitidin (150mg)treatment of gastroesophag re...   \n",
       "\n",
       "                           Manufacturer  Score  \\\n",
       "0          Roche Products India Pvt Ltd   3.00   \n",
       "1  Glaxo SmithKline Pharmaceuticals Ltd   3.58   \n",
       "2           Alembic Pharmaceuticals Ltd   3.36   \n",
       "3          Glenmark Pharmaceuticals Ltd   2.78   \n",
       "4            Cadila Pharmaceuticals Ltd   3.10   \n",
       "\n",
       "                                             img_url  \n",
       "0  https://onemg.gumlet.io/l_watermark_346,w_480,...  \n",
       "1  https://onemg.gumlet.io/l_watermark_346,w_480,...  \n",
       "2  https://onemg.gumlet.io/l_watermark_346,w_480,...  \n",
       "3  https://onemg.gumlet.io/l_watermark_346,w_480,...  \n",
       "4  https://onemg.gumlet.io/l_watermark_346,w_480,...  "
      ]
     },
     "execution_count": 322,
     "metadata": {},
     "output_type": "execute_result"
    }
   ],
   "source": [
    "new_df.head()"
   ]
  },
  {
   "cell_type": "code",
   "execution_count": 333,
   "metadata": {},
   "outputs": [
    {
     "name": "stderr",
     "output_type": "stream",
     "text": [
      "C:\\Users\\barav\\AppData\\Local\\Temp\\ipykernel_23716\\183815238.py:5: SettingWithCopyWarning: \n",
      "A value is trying to be set on a copy of a slice from a DataFrame.\n",
      "Try using .loc[row_indexer,col_indexer] = value instead\n",
      "\n",
      "See the caveats in the documentation: https://pandas.pydata.org/pandas-docs/stable/user_guide/indexing.html#returning-a-view-versus-a-copy\n",
      "  new_df['Uses'] = new_df['Uses'].astype(str)\n"
     ]
    }
   ],
   "source": [
    "from sklearn.feature_extraction.text import TfidfVectorizer\n",
    "from sklearn.metrics.pairwise import cosine_similarity\n",
    "\n",
    "# Ensure the 'Uses' column is correctly formatted as a string\n",
    "new_df['Uses'] = new_df['Uses'].astype(str)\n",
    "\n",
    "# Initialize the TF-IDF Vectorizer\n",
    "tfidf = TfidfVectorizer(stop_words='english')\n",
    "\n",
    "# Fit and transform the 'tags' column to a TF-IDF matrix\n",
    "tfidf_matrix = tfidf.fit_transform(new_df['Uses'])\n",
    "\n",
    "# Compute cosine similarity between all medicines\n",
    "similarity = cosine_similarity(tfidf_matrix)\n"
   ]
  },
  {
   "cell_type": "code",
   "execution_count": 334,
   "metadata": {},
   "outputs": [],
   "source": [
    "# Recommendations based on medicine name\n",
    "\n",
    "def recommend(medicine, max_recommendation=10):\n",
    "    recommended_medicine = []\n",
    "    med_index = new_df[new_df['Name'] == medicine].index[0]\n",
    "    distances = similarity[med_index]\n",
    "    med_list = sorted(list(enumerate(distances)), reverse=True, key=lambda x: x[1])[1:51]\n",
    "    \n",
    "    for i in med_list:\n",
    "        recommended_medicine.append([new_df.iloc[i[0]].Name, new_df.iloc[i[0]].Score])\n",
    "\n",
    "    recommendations = sorted(recommended_medicine, reverse=True, key=lambda x: x[1])\n",
    "    seen = set()\n",
    "    recommended_medicines = [x for x in recommendations if tuple(x) not in seen and not seen.add(tuple(x))]\n",
    "    \n",
    "    # Limit the number of recommendations to max_recommendation\n",
    "    recommended_medicines = recommended_medicines[:max_recommendation]\n",
    "    \n",
    "    for i in recommended_medicines:\n",
    "        print(i)\n"
   ]
  },
  {
   "cell_type": "code",
   "execution_count": 335,
   "metadata": {},
   "outputs": [
    {
     "name": "stdout",
     "output_type": "stream",
     "text": [
      "['Ampoxin 250 Capsule', np.float64(4.66)]\n",
      "['Azee 250 Tablet', np.float64(3.98)]\n",
      "['Apdrops PD Eye Drop', np.float64(3.9)]\n",
      "['Augmentin 1.2gm Injection', np.float64(3.84)]\n",
      "['ATM 200 Oral Suspension', np.float64(3.84)]\n",
      "['Azee 200mg Dry Syrup', np.float64(3.76)]\n",
      "['Azee XL 200mg Dry Syrup Peppermint', np.float64(3.66)]\n",
      "['Azee 250 Tablet', np.float64(3.64)]\n",
      "['Advent 625 Tablet', np.float64(3.56)]\n",
      "['Ampilox DS Tablet', np.float64(3.56)]\n"
     ]
    }
   ],
   "source": [
    "recommend('Azithral 500 Tablet')"
   ]
  },
  {
   "cell_type": "code",
   "execution_count": 336,
   "metadata": {},
   "outputs": [
    {
     "name": "stdout",
     "output_type": "stream",
     "text": [
      "No matching medicines found.\n"
     ]
    }
   ],
   "source": [
    "# Recommendations based on medicine composition\n",
    "def recommend_medicine(composition_queries, max_recommendation=10):\n",
    "    recommendations = []\n",
    "\n",
    "    # Check for medicines that contain all specified compositions\n",
    "    for index, row in new_df.iterrows():\n",
    "        composition = row['Composition']\n",
    "        if isinstance(composition, list):\n",
    "            # Check if all composition items are present in the medicine\n",
    "            if all(query.lower() in ' '.join(composition).lower() for query in composition_queries):\n",
    "                recommendations.append([row['Name'], row['Score']])\n",
    "\n",
    "    if recommendations:\n",
    "        # Sort the recommendations by Score and remove duplicates\n",
    "        medicine_list = sorted(recommendations, reverse=True, key=lambda x: x[1])\n",
    "        seen = set()\n",
    "        recommended_medicines = [x for x in medicine_list if tuple(x) not in seen and not seen.add(tuple(x))]\n",
    "        \n",
    "        # Limit the number of recommendations to max_recommendation\n",
    "        recommended_medicines = recommended_medicines[:max_recommendation]\n",
    "        return recommended_medicines\n",
    "    else:\n",
    "        return \"No matching medicines found.\"\n",
    "\n",
    "# Example usage:\n",
    "recommended_medicines = recommend_medicine([\"Amoxycillin(500mg)\", \"ClavulanicAcid(125mg)\"])\n",
    "print(recommended_medicines)\n",
    "\n"
   ]
  },
  {
   "cell_type": "code",
   "execution_count": 332,
   "metadata": {},
   "outputs": [
    {
     "name": "stdout",
     "output_type": "stream",
     "text": [
      "No medicines found for this disease.\n"
     ]
    }
   ],
   "source": [
    "def recommend_medicine1(use_query, max_recommendation=10):\n",
    "    recommendations = []\n",
    "\n",
    "    # Check for medicines that contain all specified uses\n",
    "    for index, row in new_df.iterrows():\n",
    "        use = row['Uses']\n",
    "        if isinstance(use, list):\n",
    "            # Check if all use_query items are present in the medicine's uses\n",
    "            if all(query.lower() in ' '.join(use).lower() for query in use_query):\n",
    "                recommendations.append([row['Name'], row['Score']])\n",
    "\n",
    "    if recommendations:\n",
    "        # Sort the recommendations by Score and remove duplicates\n",
    "        medicine_list = sorted(recommendations, reverse=True, key=lambda x: x[1])\n",
    "        seen = set()\n",
    "        recommended_medicines = [x for x in medicine_list if tuple(x) not in seen and not seen.add(tuple(x))]\n",
    "        \n",
    "        # Limit the number of recommendations to max_recommendation\n",
    "        recommended_medicines = recommended_medicines[:max_recommendation]\n",
    "        return recommended_medicines\n",
    "    else:\n",
    "        return \"No medicines found for this disease.\"\n",
    "\n",
    "# Example usage:\n",
    "recommended_medicines = recommend_medicine1([\"fever\", \"pain\"])\n",
    "print(recommended_medicines)\n"
   ]
  },
  {
   "cell_type": "code",
   "execution_count": 337,
   "metadata": {},
   "outputs": [
    {
     "data": {
      "text/plain": [
       "'No medicines found for this disease.'"
      ]
     },
     "execution_count": 337,
     "metadata": {},
     "output_type": "execute_result"
    }
   ],
   "source": [
    "recommend_medicine1(['Sneezing'])"
   ]
  },
  {
   "cell_type": "code",
   "execution_count": 338,
   "metadata": {},
   "outputs": [
    {
     "data": {
      "text/html": [
       "<div>\n",
       "<style scoped>\n",
       "    .dataframe tbody tr th:only-of-type {\n",
       "        vertical-align: middle;\n",
       "    }\n",
       "\n",
       "    .dataframe tbody tr th {\n",
       "        vertical-align: top;\n",
       "    }\n",
       "\n",
       "    .dataframe thead th {\n",
       "        text-align: right;\n",
       "    }\n",
       "</style>\n",
       "<table border=\"1\" class=\"dataframe\">\n",
       "  <thead>\n",
       "    <tr style=\"text-align: right;\">\n",
       "      <th></th>\n",
       "      <th>Name</th>\n",
       "      <th>Uses</th>\n",
       "      <th>Composition</th>\n",
       "      <th>tags</th>\n",
       "      <th>Manufacturer</th>\n",
       "      <th>Score</th>\n",
       "      <th>img_url</th>\n",
       "    </tr>\n",
       "  </thead>\n",
       "  <tbody>\n",
       "    <tr>\n",
       "      <th>0</th>\n",
       "      <td>Avastin 400mg Injection</td>\n",
       "      <td>Cancer of colon and rectum Non-small cell lun...</td>\n",
       "      <td>Bevacizumab (400mg)</td>\n",
       "      <td>bevacizumab (400mg) cancer of colon and rectum...</td>\n",
       "      <td>Roche Products India Pvt Ltd</td>\n",
       "      <td>3.00</td>\n",
       "      <td>https://onemg.gumlet.io/l_watermark_346,w_480,...</td>\n",
       "    </tr>\n",
       "    <tr>\n",
       "      <th>1</th>\n",
       "      <td>Augmentin 625 Duo Tablet</td>\n",
       "      <td>Treatment of Bacterial infections</td>\n",
       "      <td>Amoxycillin  (500mg) +  Clavulanic Acid (125mg)</td>\n",
       "      <td>amoxycillin (500mg) + clavulan acid (125mg)tre...</td>\n",
       "      <td>Glaxo SmithKline Pharmaceuticals Ltd</td>\n",
       "      <td>3.58</td>\n",
       "      <td>https://onemg.gumlet.io/l_watermark_346,w_480,...</td>\n",
       "    </tr>\n",
       "    <tr>\n",
       "      <th>2</th>\n",
       "      <td>Azithral 500 Tablet</td>\n",
       "      <td>Treatment of Bacterial infections</td>\n",
       "      <td>Azithromycin (500mg)</td>\n",
       "      <td>azithromycin (500mg)treatment of bacteri infect</td>\n",
       "      <td>Alembic Pharmaceuticals Ltd</td>\n",
       "      <td>3.36</td>\n",
       "      <td>https://onemg.gumlet.io/l_watermark_346,w_480,...</td>\n",
       "    </tr>\n",
       "    <tr>\n",
       "      <th>3</th>\n",
       "      <td>Ascoril LS Syrup</td>\n",
       "      <td>Treatment of Cough with mucus</td>\n",
       "      <td>Ambroxol (30mg/5ml) + Levosalbutamol (1mg/5ml)...</td>\n",
       "      <td>ambroxol (30mg/5ml) + levosalbutamol (1mg/5ml)...</td>\n",
       "      <td>Glenmark Pharmaceuticals Ltd</td>\n",
       "      <td>2.78</td>\n",
       "      <td>https://onemg.gumlet.io/l_watermark_346,w_480,...</td>\n",
       "    </tr>\n",
       "    <tr>\n",
       "      <th>4</th>\n",
       "      <td>Aciloc 150 Tablet</td>\n",
       "      <td>Treatment of Gastroesophageal reflux disease (...</td>\n",
       "      <td>Ranitidine (150mg)</td>\n",
       "      <td>ranitidin (150mg)treatment of gastroesophag re...</td>\n",
       "      <td>Cadila Pharmaceuticals Ltd</td>\n",
       "      <td>3.10</td>\n",
       "      <td>https://onemg.gumlet.io/l_watermark_346,w_480,...</td>\n",
       "    </tr>\n",
       "  </tbody>\n",
       "</table>\n",
       "</div>"
      ],
      "text/plain": [
       "                       Name  \\\n",
       "0   Avastin 400mg Injection   \n",
       "1  Augmentin 625 Duo Tablet   \n",
       "2       Azithral 500 Tablet   \n",
       "3          Ascoril LS Syrup   \n",
       "4         Aciloc 150 Tablet   \n",
       "\n",
       "                                                Uses  \\\n",
       "0   Cancer of colon and rectum Non-small cell lun...   \n",
       "1                  Treatment of Bacterial infections   \n",
       "2                  Treatment of Bacterial infections   \n",
       "3                      Treatment of Cough with mucus   \n",
       "4  Treatment of Gastroesophageal reflux disease (...   \n",
       "\n",
       "                                         Composition  \\\n",
       "0                                Bevacizumab (400mg)   \n",
       "1    Amoxycillin  (500mg) +  Clavulanic Acid (125mg)   \n",
       "2                               Azithromycin (500mg)   \n",
       "3  Ambroxol (30mg/5ml) + Levosalbutamol (1mg/5ml)...   \n",
       "4                                 Ranitidine (150mg)   \n",
       "\n",
       "                                                tags  \\\n",
       "0  bevacizumab (400mg) cancer of colon and rectum...   \n",
       "1  amoxycillin (500mg) + clavulan acid (125mg)tre...   \n",
       "2    azithromycin (500mg)treatment of bacteri infect   \n",
       "3  ambroxol (30mg/5ml) + levosalbutamol (1mg/5ml)...   \n",
       "4  ranitidin (150mg)treatment of gastroesophag re...   \n",
       "\n",
       "                           Manufacturer  Score  \\\n",
       "0          Roche Products India Pvt Ltd   3.00   \n",
       "1  Glaxo SmithKline Pharmaceuticals Ltd   3.58   \n",
       "2           Alembic Pharmaceuticals Ltd   3.36   \n",
       "3          Glenmark Pharmaceuticals Ltd   2.78   \n",
       "4            Cadila Pharmaceuticals Ltd   3.10   \n",
       "\n",
       "                                             img_url  \n",
       "0  https://onemg.gumlet.io/l_watermark_346,w_480,...  \n",
       "1  https://onemg.gumlet.io/l_watermark_346,w_480,...  \n",
       "2  https://onemg.gumlet.io/l_watermark_346,w_480,...  \n",
       "3  https://onemg.gumlet.io/l_watermark_346,w_480,...  \n",
       "4  https://onemg.gumlet.io/l_watermark_346,w_480,...  "
      ]
     },
     "execution_count": 338,
     "metadata": {},
     "output_type": "execute_result"
    }
   ],
   "source": [
    "new_df.head()"
   ]
  },
  {
   "cell_type": "code",
   "execution_count": null,
   "metadata": {},
   "outputs": [],
   "source": []
  }
 ],
 "metadata": {
  "kernelspec": {
   "display_name": "venv",
   "language": "python",
   "name": "python3"
  },
  "language_info": {
   "codemirror_mode": {
    "name": "ipython",
    "version": 3
   },
   "file_extension": ".py",
   "mimetype": "text/x-python",
   "name": "python",
   "nbconvert_exporter": "python",
   "pygments_lexer": "ipython3",
   "version": "3.11.5"
  }
 },
 "nbformat": 4,
 "nbformat_minor": 2
}
